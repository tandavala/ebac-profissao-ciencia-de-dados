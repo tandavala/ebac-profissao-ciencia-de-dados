{
 "cells": [
  {
   "cell_type": "markdown",
   "metadata": {
    "id": "SEE0vQsW83yB"
   },
   "source": [
    "### 01 - Teste de gravidez\n",
    "Escreva uma célula com controle de fluxos que tem como premissa a existência das seguintes variáveis:\n",
    "\n",
    "- ```sexo``` como ```str``` indicando os valores '**M**' para masculino e '**F**' para feminino  \n",
    "- ```beta_hcg``` que indica a quantidade do beta-HCG no sangue em mUI/mL.\n",
    "\n",
    "A sua tarefa é escrever um código que imprima como resultado \"indivíduo do sexo masculino\" quando sexo = 'M', caso sexo = 'F', se o valor de beta-HCG for maior que 5, retorne \"Positivo\" indicando que a paciente está grávida, e retorne \"Negativo\" caso contrário.\n",
    "\n",
    "Não mexa nos valores da variável ```sexo``` nem em ```beta_hcg```, e escreva um código que funcione para quaisquer valores possíveis de ambos: ```sexo``` = '**M**' ou '**F**' e ```beta_hcg``` assumindo valores inteiros positivos."
   ]
  },
  {
   "cell_type": "code",
   "execution_count": 1,
   "metadata": {
    "id": "cTOc4LG683yE"
   },
   "outputs": [
    {
     "name": "stdout",
     "output_type": "stream",
     "text": [
      "Negativo\n"
     ]
    }
   ],
   "source": [
    "sexo = 'M'\n",
    "beta_hcg = 0\n",
    "\n",
    "# seu código vem abaixo desta linha\n",
    "if sexo == 'F':\n",
    "    print(\"indivíduo do sexo masculino\")\n",
    "elif sexo == 'M' and beta_hcg <= 5:\n",
    "    print(\"Negativo\")\n",
    "elif sexo == 'M' and beta_hcg > 5:\n",
    "    print('Positivo')\n"
   ]
  },
  {
   "cell_type": "markdown",
   "metadata": {
    "id": "uCoIZDE383yF"
   },
   "source": [
    "### 02 - Renomeando variáveis\n",
    "\n",
    "Vamos ver adiante que uma forma de renomear variáveis de um conjunto de dados é através de dicionários - o dicionário deve conter como chave o nome original, associando a cada chave um único valor (tipo *str*) que contenha o nome novo.\n",
    "\n",
    "A sua tarefa é escrever um dicionário que possa ser utilizado para traduzir as variáveis ```name``` (nome), ```age``` (idade) e ```income``` (renda). Ou seja, esse dicionário deve relacionar as chaves *name, age* e *income* às suas respectivas traduções."
   ]
  },
  {
   "cell_type": "code",
   "execution_count": 2,
   "metadata": {
    "id": "Bh6ijpbu83yG",
    "outputId": "58fbd8da-ed1d-4e05-df85-041c821948f2"
   },
   "outputs": [
    {
     "data": {
      "text/plain": [
       "{'name': 'nome', 'age': 'idade', 'income': 'renda'}"
      ]
     },
     "execution_count": 2,
     "metadata": {},
     "output_type": "execute_result"
    }
   ],
   "source": [
    "dic_renomeacao = {'name': 'nome', 'age': 'idade', 'income':'renda'}\n",
    "dic_renomeacao"
   ]
  },
  {
   "cell_type": "markdown",
   "metadata": {
    "id": "95zumO5g83yH"
   },
   "source": [
    "### 03 - É divisível?\n",
    "A sua tarefa é escrever um código que indique se um número ```N``` é divisível por um número P. Escreva um programa que faça essa verificação para quaisquer combinações de ```N``` e ```M``` e devolva uma mensagem indicativa no output."
   ]
  },
  {
   "cell_type": "code",
   "execution_count": 3,
   "metadata": {
    "id": "BR2zOhmN83yI"
   },
   "outputs": [
    {
     "name": "stdout",
     "output_type": "stream",
     "text": [
      "Valor 42 é divisível por 7\n"
     ]
    }
   ],
   "source": [
    "N = 42\n",
    "M = 7\n",
    "\n",
    "#Seu código\n",
    "if N % M == 0:\n",
    "    print(f'Valor {N} é divisível por {M}')\n",
    "else:\n",
    "    print(f'Valor {N} não é divisível por {M}')\n"
   ]
  },
  {
   "cell_type": "markdown",
   "metadata": {
    "id": "0d5Kdrz283yJ"
   },
   "source": [
    "### 04 - Números primos\n",
    "> Um número **N** é primo se e somente se é divisível por 1, -1, por **N** e por -**N**.  \n",
    "\n",
    "Escreva um script que verifica se ```N``` é um número primo, verificando se ```N``` é divisível por todos os números de ```1``` a ```N-1```. Você vai precisar usar alguma ferramenta de *loop* que você aprendeu para isto. No final, devolva uma mensagem no output indicando se o número é primo ou não."
   ]
  },
  {
   "cell_type": "code",
   "execution_count": 4,
   "metadata": {
    "id": "h_lFO-EO83yJ"
   },
   "outputs": [
    {
     "name": "stdout",
     "output_type": "stream",
     "text": [
      "Número 1 é primo\n",
      "Número 2 é primo\n",
      "Número 3 é primo\n",
      "Número 4 não é primo\n",
      "Número 5 é primo\n",
      "Número 6 não é primo\n",
      "Número 7 é primo\n",
      "Número 8 não é primo\n",
      "Número 9 é primo\n",
      "Número 10 não é primo\n",
      "Número 11 é primo\n",
      "Número 12 não é primo\n",
      "Número 13 é primo\n",
      "Número 14 não é primo\n",
      "Número 15 é primo\n",
      "Número 16 não é primo\n",
      "Número 17 é primo\n",
      "Número 18 não é primo\n",
      "Número 19 é primo\n",
      "Número 20 não é primo\n",
      "Número 21 é primo\n",
      "Número 22 não é primo\n",
      "Número 23 é primo\n",
      "Número 24 não é primo\n",
      "Número 25 é primo\n",
      "Número 26 não é primo\n",
      "Número 27 é primo\n",
      "Número 28 não é primo\n",
      "Número 29 é primo\n",
      "Número 30 não é primo\n",
      "Número 31 é primo\n",
      "Número 32 não é primo\n",
      "Número 33 é primo\n",
      "Número 34 não é primo\n",
      "Número 35 é primo\n",
      "Número 36 não é primo\n",
      "Número 37 é primo\n",
      "Número 38 não é primo\n",
      "Número 39 é primo\n",
      "Número 40 não é primo\n",
      "Número 41 é primo\n",
      "Número 42 não é primo\n",
      "Número 43 é primo\n",
      "Número 44 não é primo\n",
      "Número 45 é primo\n",
      "Número 46 não é primo\n"
     ]
    }
   ],
   "source": [
    "N = 47\n",
    "\n",
    "# seu código abaixo\n",
    "i = 1\n",
    "while i <= N - 1:\n",
    "    \n",
    "    if i % 2 != 0 or i == 2:\n",
    "        print(f'Número {i} é primo')\n",
    "    else:\n",
    "        print(f'Número {i} não é primo')\n",
    "    i += 1"
   ]
  },
  {
   "cell_type": "markdown",
   "metadata": {
    "id": "zHwDnURO83yK"
   },
   "source": [
    "### 05 - Desafio\n",
    "O algorítmo do exercício anterior não é o mais eficiente. O que você pode fazer para deixá-lo mais eficiente? Ou seja, executar menos comparações, portanto consumir menos tempo.\n",
    "1. Será que precisamos correr o loop até o final sempre?\n",
    "2. Será que precisamos mesmo verificar **todos** os números?\n",
    "3. Será que precisamos ir até N-1?\n",
    "\n",
    "Essas perguntas levam ao tipo de pensamento voltado a deixar um algoritmo mais eficiente. Veja se você consegue melhorar o seu."
   ]
  },
  {
   "cell_type": "code",
   "execution_count": 5,
   "metadata": {
    "id": "DDdwfZOL83yM"
   },
   "outputs": [
    {
     "name": "stdout",
     "output_type": "stream",
     "text": [
      "Número 1 é primo\n",
      "Número 1 não é primo\n",
      "Número 2 é primo\n",
      "Número 2 não é primo\n",
      "Número 3 é primo\n",
      "Número 3 não é primo\n",
      "Número 4 não é primo\n",
      "Número 5 é primo\n",
      "Número 5 não é primo\n",
      "Número 6 não é primo\n",
      "Número 7 é primo\n",
      "Número 7 não é primo\n",
      "Número 8 não é primo\n",
      "Número 9 é primo\n",
      "Número 9 não é primo\n",
      "Número 10 não é primo\n",
      "Número 11 é primo\n",
      "Objetivo atingido, interromper o programa\n"
     ]
    }
   ],
   "source": [
    "N = 98\n",
    "x_para_quebrar = 11\n",
    "\n",
    "# seu código aqui\n",
    "for i in range(1, N - 1):\n",
    "    if i % 2 != 0 or i ==2:\n",
    "        print(f'Número {i} é primo')\n",
    "    if i == x_para_quebrar:\n",
    "        print('Objetivo atingido, interromper o programa')\n",
    "        break\n",
    "    else:\n",
    "        print(f'Número {i} não é primo')\n",
    "\n",
    "        \n",
    "        \n",
    "\n"
   ]
  },
  {
   "cell_type": "markdown",
   "metadata": {
    "id": "4zhVSQan83yN"
   },
   "source": [
    "### 06 - Peso ideal 1\n",
    "O IMC (índice de massa corpórea) é um indicador de saúde mais bem aceito que o peso. Ele é calculado como:\n",
    "\n",
    "$$ IMC = \\dfrac{peso}{altura^2}$$\n",
    "\n",
    "Segundo a OMS, valores *normais* são entre 18.5 e 24.9.\n",
    "\n",
    "Sua tarefa é encontrar o ponto médio dessa faixa."
   ]
  },
  {
   "cell_type": "code",
   "execution_count": 6,
   "metadata": {
    "id": "3DzxicN983yO",
    "outputId": "6a947e58-88b2-4764-a9ca-717b971adb3d"
   },
   "outputs": [
    {
     "name": "stdout",
     "output_type": "stream",
     "text": [
      "A média da faixa é: 21.7\n"
     ]
    }
   ],
   "source": [
    "imc_ideal_inferior = 18.5\n",
    "imc_ideal_superior = 24.9\n",
    "resultado = (imc_ideal_inferior + imc_ideal_superior)/2\n",
    "print(f'A média da faixa é: {resultado}')"
   ]
  },
  {
   "cell_type": "markdown",
   "metadata": {
    "id": "Z8uBOym483yP"
   },
   "source": [
    "### 07 - Peso ideal 2\n",
    "Recebendo um valor de altura, encontre o peso '*ideal*' dessa pessoa, que fornece o IMC encontrado acima"
   ]
  },
  {
   "cell_type": "code",
   "execution_count": 7,
   "metadata": {
    "id": "rrNwycte83yP",
    "outputId": "0e63b2ff-3743-48c7-a472-b48a450a0867"
   },
   "outputs": [
    {
     "name": "stdout",
     "output_type": "stream",
     "text": [
      "O peso ideial é: 71.96\n"
     ]
    }
   ],
   "source": [
    "\n",
    "\n",
    "altura = 1.70\n",
    "imc = 24.9\n",
    "\n",
    "# Seu código\n",
    "def calular_peso_ideial(imc: float, altura: float):\n",
    "    return round(imc * (altura**2), 2)\n",
    "\n",
    "print(f'O peso ideial é: {calular_peso_ideial(imc, altura)}')"
   ]
  },
  {
   "cell_type": "markdown",
   "metadata": {
    "id": "zEdM6J_i83yP"
   },
   "source": [
    "### 08 - Peso ideal 3\n",
    "Dada uma lista contendo as alturas de pacientes, crie uma nova lista que contenha o peso '*ideal*' (que fornece o IMC calculado em **Peso ideal 1**) desses pacientes."
   ]
  },
  {
   "cell_type": "code",
   "execution_count": 8,
   "metadata": {
    "id": "KN1mB_My83yQ",
    "outputId": "f070d54d-c156-4546-e3c7-b5bc500059d9"
   },
   "outputs": [
    {
     "data": {
      "text/plain": [
       "[69.97, 104.64, 71.96, 50.09]"
      ]
     },
     "execution_count": 8,
     "metadata": {},
     "output_type": "execute_result"
    }
   ],
   "source": [
    "import random\n",
    "\n",
    "lista_alturas = [1.95, 2.05, 1.70, 1.65]\n",
    "lista_peso_ideal = []\n",
    "\n",
    "# seu código\n",
    "imcs = [18.4, 21.7, 24.9]\n",
    "\n",
    "for altura in lista_alturas:\n",
    "    imc = random.choice(imcs)\n",
    "    lista_peso_ideal.append(calular_peso_ideial(imc, altura))\n",
    "\n",
    "lista_peso_ideal"
   ]
  },
  {
   "cell_type": "markdown",
   "metadata": {
    "id": "8OKAtYQM83yQ"
   },
   "source": [
    "### 09 - Peso ideal 4\n",
    "Dada uma lista de tuplas - cada elemento da lista é uma tupla contendo altura e peso de um paciente - crie uma nova lista com o IMC desses pacientes."
   ]
  },
  {
   "cell_type": "code",
   "execution_count": 9,
   "metadata": {
    "id": "FaXgkjzI83yQ",
    "outputId": "8adc5e59-8a72-42db-db6b-6895587e875e"
   },
   "outputs": [
    {
     "data": {
      "text/plain": [
       "[27.78, 27.55, 19.19]"
      ]
     },
     "execution_count": 9,
     "metadata": {},
     "output_type": "execute_result"
    }
   ],
   "source": [
    "altura_peso = [(1.80, 90), (1.65, 75), (1.91, 70)]\n",
    "\n",
    "imc = []\n",
    "\n",
    "# seu código\n",
    "def calcular_imc(altura: float, peso: float):\n",
    "    return round(peso/(altura**2), 2)\n",
    "\n",
    "for altura, peso in altura_peso:\n",
    "    imc.append(calcular_imc(altura, peso))\n",
    "\n",
    "imc"
   ]
  },
  {
   "cell_type": "markdown",
   "metadata": {
    "id": "kZdSJqJq83yR"
   },
   "source": [
    "### 10 - Peso ideal 5\n",
    "Dada uma lista de **listas** - cada elemento da lista é uma **lista** contendo altura e peso de um paciente, adicione mais um elemento à lista de cada paciente contendo o IMC do paciente. Verifique também se é 'baixo', 'normal' ou 'alto' segundo os padrões da OMS em que normal é entre 18.5 e 24.9.\n",
    "\n",
    "Reflexão: por que no problema anterior temos que criar uma nova lista, e não podemos adicionar os dados de cada indivíduo à tupla?"
   ]
  },
  {
   "cell_type": "code",
   "execution_count": 10,
   "metadata": {
    "id": "EwszojP283yR"
   },
   "outputs": [
    {
     "name": "stdout",
     "output_type": "stream",
     "text": [
      "A 1ª pessoal tem imc alto\n",
      "A 2ª pessoal tem imc alto\n",
      "A 3ª pessoal tem imc normal\n"
     ]
    },
    {
     "data": {
      "text/plain": [
       "[[1.8, 90, 27.78], [1.65, 75, 27.55], [1.91, 70, 19.19]]"
      ]
     },
     "execution_count": 10,
     "metadata": {},
     "output_type": "execute_result"
    }
   ],
   "source": [
    "altura_peso = [[1.80, 90], [1.65, 75], [1.91, 70]]\n",
    "\n",
    "# seu código\n",
    "i = 0\n",
    "for altura, peso in altura_peso:\n",
    "    imc = calcular_imc(altura, peso)\n",
    "    altura_peso[i].append(imc)\n",
    "    \n",
    "    if 18.5 <= imc <= 24.9:\n",
    "        print(f'A {i+1}ª pessoal tem imc normal')\n",
    "    elif imc < 18.5:\n",
    "           print(f'A {i+1}ª pessoal tem imc baixo')\n",
    "    else:\n",
    "        print(f'A {i+1}ª pessoal tem imc alto')\n",
    "   \n",
    "    i += 1\n",
    "\n",
    "altura_peso"
   ]
  },
  {
   "cell_type": "code",
   "execution_count": null,
   "metadata": {},
   "outputs": [],
   "source": []
  }
 ],
 "metadata": {
  "colab": {
   "collapsed_sections": [],
   "provenance": []
  },
  "kernelspec": {
   "display_name": "Python 3 (ipykernel)",
   "language": "python",
   "name": "python3"
  },
  "language_info": {
   "codemirror_mode": {
    "name": "ipython",
    "version": 3
   },
   "file_extension": ".py",
   "mimetype": "text/x-python",
   "name": "python",
   "nbconvert_exporter": "python",
   "pygments_lexer": "ipython3",
   "version": "3.10.9"
  }
 },
 "nbformat": 4,
 "nbformat_minor": 1
}
